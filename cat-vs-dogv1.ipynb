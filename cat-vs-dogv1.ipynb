{
 "cells": [
  {
   "cell_type": "code",
   "execution_count": 1,
   "metadata": {
    "_cell_guid": "b1076dfc-b9ad-4769-8c92-a6c4dae69d19",
    "_uuid": "8f2839f25d086af736a60e9eeb907d3b93b6e0e5",
    "execution": {
     "iopub.execute_input": "2021-02-25T12:48:05.126789Z",
     "iopub.status.busy": "2021-02-25T12:48:05.125784Z",
     "iopub.status.idle": "2021-02-25T12:48:05.134526Z",
     "shell.execute_reply": "2021-02-25T12:48:05.132921Z"
    },
    "papermill": {
     "duration": 0.052169,
     "end_time": "2021-02-25T12:48:05.134996",
     "exception": false,
     "start_time": "2021-02-25T12:48:05.082827",
     "status": "completed"
    },
    "tags": []
   },
   "outputs": [],
   "source": [
    "# This Python 3 environment comes with many helpful analytics libraries installed\n",
    "# It is defined by the kaggle/python Docker image: https://github.com/kaggle/docker-python\n",
    "# For example, here's several helpful packages to load\n",
    "\n",
    "import numpy as np # linear algebra\n",
    "import pandas as pd # data processing, CSV file I/O (e.g. pd.read_csv)\n",
    "\n",
    "# Input data files are available in the read-only \"../input/\" directory\n",
    "# For example, running this (by clicking run or pressing Shift+Enter) will list all files under the input directory\n",
    "\n",
    "import os\n",
    "for dirname, _, filenames in os.walk('/kaggle/input'):\n",
    "    for filename in filenames:\n",
    "        print(os.path.join(dirname, filename))\n",
    "\n",
    "# You can write up to 20GB to the current directory (/kaggle/working/) that gets preserved as output when you create a version using \"Save & Run All\" \n",
    "# You can also write temporary files to /kaggle/temp/, but they won't be saved outside of the current session"
   ]
  },
  {
   "cell_type": "markdown",
   "metadata": {
    "papermill": {
     "duration": 0.032077,
     "end_time": "2021-02-25T12:48:05.204227",
     "exception": false,
     "start_time": "2021-02-25T12:48:05.172150",
     "status": "completed"
    },
    "tags": []
   },
   "source": [
    "## importing libraries"
   ]
  },
  {
   "cell_type": "code",
   "execution_count": 3,
   "metadata": {
    "execution": {
     "iopub.execute_input": "2021-02-25T12:48:05.257048Z",
     "iopub.status.busy": "2021-02-25T12:48:05.256228Z",
     "iopub.status.idle": "2021-02-25T12:48:11.472607Z",
     "shell.execute_reply": "2021-02-25T12:48:11.471019Z"
    },
    "papermill": {
     "duration": 6.245539,
     "end_time": "2021-02-25T12:48:11.472784",
     "exception": false,
     "start_time": "2021-02-25T12:48:05.227245",
     "status": "completed"
    },
    "tags": []
   },
   "outputs": [],
   "source": [
    "from tensorflow import keras\n",
    "from tensorflow.keras.preprocessing.image import load_img\n",
    "import matplotlib.pyplot as plt\n",
    "import random\n",
    "from sklearn.model_selection import train_test_split\n",
    "from tensorflow.keras.preprocessing.image import ImageDataGenerator"
   ]
  },
  {
   "cell_type": "markdown",
   "metadata": {
    "papermill": {
     "duration": 0.022493,
     "end_time": "2021-02-25T12:48:11.518484",
     "exception": false,
     "start_time": "2021-02-25T12:48:11.495991",
     "status": "completed"
    },
    "tags": []
   },
   "source": [
    "## extracting files"
   ]
  },
  {
   "cell_type": "code",
   "execution_count": 4,
   "metadata": {
    "execution": {
     "iopub.execute_input": "2021-02-25T12:48:31.111143Z",
     "iopub.status.busy": "2021-02-25T12:48:31.110229Z",
     "iopub.status.idle": "2021-02-25T12:48:31.184496Z",
     "shell.execute_reply": "2021-02-25T12:48:31.183593Z"
    },
    "papermill": {
     "duration": 0.115474,
     "end_time": "2021-02-25T12:48:31.184827",
     "exception": false,
     "start_time": "2021-02-25T12:48:31.069353",
     "status": "completed"
    },
    "tags": []
   },
   "outputs": [],
   "source": [
    "filenames = os.listdir('DVCData/train')\n",
    "categories = []\n",
    "for filename in filenames:\n",
    "    category = filename.split('.')[0]\n",
    "    if category == 'dog':\n",
    "        categories.append(str(1))\n",
    "    else:\n",
    "        categories.append(str(0))\n",
    "\n",
    "df = pd.DataFrame({\n",
    "    'filename': filenames,\n",
    "    'category': categories\n",
    "})"
   ]
  },
  {
   "cell_type": "code",
   "execution_count": 5,
   "metadata": {
    "execution": {
     "iopub.execute_input": "2021-02-25T12:48:31.265638Z",
     "iopub.status.busy": "2021-02-25T12:48:31.264658Z",
     "iopub.status.idle": "2021-02-25T12:48:31.281903Z",
     "shell.execute_reply": "2021-02-25T12:48:31.282524Z"
    },
    "papermill": {
     "duration": 0.06575,
     "end_time": "2021-02-25T12:48:31.282724",
     "exception": false,
     "start_time": "2021-02-25T12:48:31.216974",
     "status": "completed"
    },
    "tags": []
   },
   "outputs": [
    {
     "data": {
      "text/plain": [
       "(       filename category\n",
       " 0     cat.0.jpg        0\n",
       " 1     cat.1.jpg        0\n",
       " 2    cat.10.jpg        0\n",
       " 3   cat.100.jpg        0\n",
       " 4  cat.1000.jpg        0,\n",
       "            filename category\n",
       " 24995  dog.9995.jpg        1\n",
       " 24996  dog.9996.jpg        1\n",
       " 24997  dog.9997.jpg        1\n",
       " 24998  dog.9998.jpg        1\n",
       " 24999  dog.9999.jpg        1)"
      ]
     },
     "execution_count": 5,
     "metadata": {},
     "output_type": "execute_result"
    }
   ],
   "source": [
    "df.head() , df.tail()"
   ]
  },
  {
   "cell_type": "code",
   "execution_count": 6,
   "metadata": {
    "execution": {
     "iopub.execute_input": "2021-02-25T12:48:31.377047Z",
     "iopub.status.busy": "2021-02-25T12:48:31.376090Z",
     "iopub.status.idle": "2021-02-25T12:48:31.574454Z",
     "shell.execute_reply": "2021-02-25T12:48:31.575584Z"
    },
    "papermill": {
     "duration": 0.248686,
     "end_time": "2021-02-25T12:48:31.575841",
     "exception": false,
     "start_time": "2021-02-25T12:48:31.327155",
     "status": "completed"
    },
    "tags": []
   },
   "outputs": [
    {
     "data": {
      "text/plain": [
       "0    12500\n",
       "1    12500\n",
       "Name: category, dtype: int64"
      ]
     },
     "execution_count": 6,
     "metadata": {},
     "output_type": "execute_result"
    }
   ],
   "source": [
    "df['category'].value_counts()\n"
   ]
  },
  {
   "cell_type": "markdown",
   "metadata": {
    "papermill": {
     "duration": 0.026628,
     "end_time": "2021-02-25T12:48:31.626134",
     "exception": false,
     "start_time": "2021-02-25T12:48:31.599506",
     "status": "completed"
    },
    "tags": []
   },
   "source": [
    "## visualizing data"
   ]
  },
  {
   "cell_type": "code",
   "execution_count": 7,
   "metadata": {
    "execution": {
     "iopub.execute_input": "2021-02-25T12:48:31.697583Z",
     "iopub.status.busy": "2021-02-25T12:48:31.696699Z",
     "iopub.status.idle": "2021-02-25T12:48:32.050369Z",
     "shell.execute_reply": "2021-02-25T12:48:32.050878Z"
    },
    "papermill": {
     "duration": 0.394104,
     "end_time": "2021-02-25T12:48:32.051064",
     "exception": false,
     "start_time": "2021-02-25T12:48:31.656960",
     "status": "completed"
    },
    "tags": []
   },
   "outputs": [
    {
     "data": {
      "text/plain": [
       "<matplotlib.image.AxesImage at 0x20bde7b1160>"
      ]
     },
     "execution_count": 7,
     "metadata": {},
     "output_type": "execute_result"
    },
    {
     "data": {
      "image/png": "[encoded data removed]",
      "text/plain": [
       "<Figure size 432x288 with 1 Axes>"
      ]
     },
     "metadata": {
      "needs_background": "light"
     },
     "output_type": "display_data"
    }
   ],
   "source": [
    "\n",
    "sample = random.choice(filenames)\n",
    "image = load_img(\"DVCData/train/\"+sample)\n",
    "plt.imshow(image)"
   ]
  },
  {
   "cell_type": "markdown",
   "metadata": {
    "papermill": {
     "duration": 0.027572,
     "end_time": "2021-02-25T12:48:32.106385",
     "exception": false,
     "start_time": "2021-02-25T12:48:32.078813",
     "status": "completed"
    },
    "tags": []
   },
   "source": [
    "## splitting of dataset"
   ]
  },
  {
   "cell_type": "code",
   "execution_count": 8,
   "metadata": {
    "execution": {
     "iopub.execute_input": "2021-02-25T12:48:32.170668Z",
     "iopub.status.busy": "2021-02-25T12:48:32.169711Z",
     "iopub.status.idle": "2021-02-25T12:48:32.177870Z",
     "shell.execute_reply": "2021-02-25T12:48:32.177360Z"
    },
    "papermill": {
     "duration": 0.041898,
     "end_time": "2021-02-25T12:48:32.178038",
     "exception": false,
     "start_time": "2021-02-25T12:48:32.136140",
     "status": "completed"
    },
    "tags": []
   },
   "outputs": [],
   "source": [
    "\n",
    "train_data, valid_data = train_test_split(df, test_size=0.2, random_state = 42)\n",
    "train_data = train_data.reset_index(drop=True)\n",
    "valid_data = valid_data.reset_index(drop=True)"
   ]
  },
  {
   "cell_type": "markdown",
   "metadata": {
    "papermill": {
     "duration": 0.026806,
     "end_time": "2021-02-25T12:48:32.231707",
     "exception": false,
     "start_time": "2021-02-25T12:48:32.204901",
     "status": "completed"
    },
    "tags": []
   },
   "source": [
    "## generating training data"
   ]
  },
  {
   "cell_type": "code",
   "execution_count": 9,
   "metadata": {
    "execution": {
     "iopub.execute_input": "2021-02-25T12:48:32.291483Z",
     "iopub.status.busy": "2021-02-25T12:48:32.290759Z",
     "iopub.status.idle": "2021-02-25T12:48:32.295168Z",
     "shell.execute_reply": "2021-02-25T12:48:32.294435Z"
    },
    "papermill": {
     "duration": 0.036387,
     "end_time": "2021-02-25T12:48:32.295346",
     "exception": false,
     "start_time": "2021-02-25T12:48:32.258959",
     "status": "completed"
    },
    "tags": []
   },
   "outputs": [],
   "source": [
    "\n",
    "train_data_gen = ImageDataGenerator(\n",
    "    rotation_range=15,\n",
    "    rescale=1./255,\n",
    "    shear_range=0.1,\n",
    "    zoom_range=0.2,\n",
    "    horizontal_flip=True,\n",
    "    width_shift_range=0.1,\n",
    "    height_shift_range=0.1\n",
    ")"
   ]
  },
  {
   "cell_type": "code",
   "execution_count": 10,
   "metadata": {
    "execution": {
     "iopub.execute_input": "2021-02-25T12:48:32.389584Z",
     "iopub.status.busy": "2021-02-25T12:48:32.384351Z",
     "iopub.status.idle": "2021-02-25T12:48:32.609179Z",
     "shell.execute_reply": "2021-02-25T12:48:32.609916Z"
    },
    "papermill": {
     "duration": 0.287903,
     "end_time": "2021-02-25T12:48:32.610142",
     "exception": false,
     "start_time": "2021-02-25T12:48:32.322239",
     "status": "completed"
    },
    "tags": []
   },
   "outputs": [
    {
     "name": "stdout",
     "output_type": "stream",
     "text": [
      "Found 20000 validated image filenames belonging to 2 classes.\n"
     ]
    }
   ],
   "source": [
    "train_generator = train_data_gen.flow_from_dataframe(\n",
    "    train_data, \n",
    "    \"DVCData/train/\", \n",
    "    x_col='filename',\n",
    "    y_col='category',\n",
    "    target_size=(128,128),\n",
    "    class_mode='categorical',\n",
    "    batch_size=15\n",
    ")"
   ]
  },
  {
   "cell_type": "markdown",
   "metadata": {
    "papermill": {
     "duration": 0.0275,
     "end_time": "2021-02-25T12:48:32.666091",
     "exception": false,
     "start_time": "2021-02-25T12:48:32.638591",
     "status": "completed"
    },
    "tags": []
   },
   "source": [
    "## generating validation data"
   ]
  },
  {
   "cell_type": "code",
   "execution_count": 11,
   "metadata": {
    "execution": {
     "iopub.execute_input": "2021-02-25T12:48:32.761548Z",
     "iopub.status.busy": "2021-02-25T12:48:32.760558Z",
     "iopub.status.idle": "2021-02-25T12:48:32.814586Z",
     "shell.execute_reply": "2021-02-25T12:48:32.813768Z"
    },
    "papermill": {
     "duration": 0.117019,
     "end_time": "2021-02-25T12:48:32.814781",
     "exception": false,
     "start_time": "2021-02-25T12:48:32.697762",
     "status": "completed"
    },
    "tags": []
   },
   "outputs": [
    {
     "name": "stdout",
     "output_type": "stream",
     "text": [
      "Found 5000 validated image filenames belonging to 2 classes.\n"
     ]
    }
   ],
   "source": [
    "valid_data_gen = ImageDataGenerator(rescale=1./255)\n",
    "\n",
    "valid_generator = valid_data_gen.flow_from_dataframe(valid_data, \n",
    "    \"DVCData/train/\", \n",
    "    x_col='filename',\n",
    "    y_col='category',\n",
    "    target_size=(128,128),\n",
    "    class_mode='categorical',\n",
    "    batch_size=15\n",
    ")"
   ]
  },
  {
   "cell_type": "markdown",
   "metadata": {
    "papermill": {
     "duration": 0.029367,
     "end_time": "2021-02-25T12:48:32.874056",
     "exception": false,
     "start_time": "2021-02-25T12:48:32.844689",
     "status": "completed"
    },
    "tags": []
   },
   "source": [
    "# *CNN Model*"
   ]
  },
  {
   "cell_type": "code",
   "execution_count": 12,
   "metadata": {
    "execution": {
     "iopub.execute_input": "2021-02-25T12:48:32.943577Z",
     "iopub.status.busy": "2021-02-25T12:48:32.942843Z",
     "iopub.status.idle": "2021-02-25T12:48:36.049854Z",
     "shell.execute_reply": "2021-02-25T12:48:36.049169Z"
    },
    "papermill": {
     "duration": 3.147595,
     "end_time": "2021-02-25T12:48:36.050031",
     "exception": false,
     "start_time": "2021-02-25T12:48:32.902436",
     "status": "completed"
    },
    "tags": []
   },
   "outputs": [],
   "source": [
    "model = keras.models.Sequential([\n",
    "                         keras.layers.Conv2D(filters=64, kernel_size=3, strides=(1,1), padding='valid',activation= 'relu', input_shape=(128,128,3)),\n",
    "                         keras.layers.MaxPooling2D(pool_size=(2,2)),\n",
    "                         keras.layers.Conv2D(filters=128, kernel_size=3, strides=(2,2), padding='same', activation='relu'),\n",
    "                         keras.layers.MaxPooling2D(pool_size=(2,2)),\n",
    "                         keras.layers.Conv2D(filters=64, kernel_size=3, strides=(2,2), padding='same', activation='relu'),\n",
    "                         keras.layers.MaxPooling2D(pool_size=(2,2)),\n",
    "                         keras.layers.Flatten(),\n",
    "                         keras.layers.Dense(units=128, activation='relu'),\n",
    "                         keras.layers.Dropout(0.25),\n",
    "                         keras.layers.Dense(units=256, activation='relu'),\n",
    "                         keras.layers.Dropout(0.5),\n",
    "                         keras.layers.Dense(units=256, activation='relu'),\n",
    "                         keras.layers.Dropout(0.25),                        \n",
    "                         keras.layers.Dense(units=128, activation='relu'),\n",
    "                         keras.layers.Dropout(0.10),                         \n",
    "                         keras.layers.Dense(units=2, activation='softmax')\n",
    "])"
   ]
  },
  {
   "cell_type": "code",
   "execution_count": 14,
   "metadata": {
    "execution": {
     "iopub.execute_input": "2021-02-25T12:48:36.119869Z",
     "iopub.status.busy": "2021-02-25T12:48:36.119223Z",
     "iopub.status.idle": "2021-02-25T12:48:36.127966Z",
     "shell.execute_reply": "2021-02-25T12:48:36.127385Z"
    },
    "papermill": {
     "duration": 0.047347,
     "end_time": "2021-02-25T12:48:36.128098",
     "exception": false,
     "start_time": "2021-02-25T12:48:36.080751",
     "status": "completed"
    },
    "tags": []
   },
   "outputs": [
    {
     "name": "stdout",
     "output_type": "stream",
     "text": [
      "Model: \"sequential\"\n",
      "_________________________________________________________________\n",
      "Layer (type)                 Output Shape              Param #   \n",
      "=================================================================\n",
      "conv2d (Conv2D)              (None, 126, 126, 64)      1792      \n",
      "_________________________________________________________________\n",
      "max_pooling2d (MaxPooling2D) (None, 63, 63, 64)        0         \n",
      "_________________________________________________________________\n",
      "conv2d_1 (Conv2D)            (None, 32, 32, 128)       73856     \n",
      "_________________________________________________________________\n",
      "max_pooling2d_1 (MaxPooling2 (None, 16, 16, 128)       0         \n",
      "_________________________________________________________________\n",
      "conv2d_2 (Conv2D)            (None, 8, 8, 64)          73792     \n",
      "_________________________________________________________________\n",
      "max_pooling2d_2 (MaxPooling2 (None, 4, 4, 64)          0         \n",
      "_________________________________________________________________\n",
      "flatten (Flatten)            (None, 1024)              0         \n",
      "_________________________________________________________________\n",
      "dense (Dense)                (None, 128)               131200    \n",
      "_________________________________________________________________\n",
      "dropout (Dropout)            (None, 128)               0         \n",
      "_________________________________________________________________\n",
      "dense_1 (Dense)              (None, 256)               33024     \n",
      "_________________________________________________________________\n",
      "dropout_1 (Dropout)          (None, 256)               0         \n",
      "_________________________________________________________________\n",
      "dense_2 (Dense)              (None, 256)               65792     \n",
      "_________________________________________________________________\n",
      "dropout_2 (Dropout)          (None, 256)               0         \n",
      "_________________________________________________________________\n",
      "dense_3 (Dense)              (None, 128)               32896     \n",
      "_________________________________________________________________\n",
      "dropout_3 (Dropout)          (None, 128)               0         \n",
      "_________________________________________________________________\n",
      "dense_4 (Dense)              (None, 2)                 258       \n",
      "=================================================================\n",
      "Total params: 412,610\n",
      "Trainable params: 412,610\n",
      "Non-trainable params: 0\n",
      "_________________________________________________________________\n"
     ]
    }
   ],
   "source": [
    "model.summary()"
   ]
  },
  {
   "cell_type": "code",
   "execution_count": 15,
   "metadata": {
    "execution": {
     "iopub.execute_input": "2021-02-25T12:48:36.193037Z",
     "iopub.status.busy": "2021-02-25T12:48:36.192252Z",
     "iopub.status.idle": "2021-02-25T12:48:36.204697Z",
     "shell.execute_reply": "2021-02-25T12:48:36.204205Z"
    },
    "papermill": {
     "duration": 0.047933,
     "end_time": "2021-02-25T12:48:36.204825",
     "exception": false,
     "start_time": "2021-02-25T12:48:36.156892",
     "status": "completed"
    },
    "tags": []
   },
   "outputs": [],
   "source": [
    "model.compile(optimizer='adam', loss= 'categorical_crossentropy', metrics=['accuracy'])"
   ]
  },
  {
   "cell_type": "markdown",
   "metadata": {
    "papermill": {
     "duration": 0.028692,
     "end_time": "2021-02-25T12:48:36.262806",
     "exception": false,
     "start_time": "2021-02-25T12:48:36.234114",
     "status": "completed"
    },
    "tags": []
   },
   "source": [
    "## training model"
   ]
  },
  {
   "cell_type": "code",
   "execution_count": null,
   "metadata": {},
   "outputs": [],
   "source": [
    "model.fit(train_generator, epochs=15, verbose=1, validation_data=valid_generator)"
   ]
  },
  {
   "cell_type": "code",
   "execution_count": 16,
   "metadata": {
    "execution": {
     "iopub.execute_input": "2021-02-25T13:27:57.460115Z",
     "iopub.status.busy": "2021-02-25T13:27:57.459182Z",
     "iopub.status.idle": "2021-02-25T13:27:57.480295Z",
     "shell.execute_reply": "2021-02-25T13:27:57.479613Z"
    },
    "papermill": {
     "duration": 7.364013,
     "end_time": "2021-02-25T13:27:57.480431",
     "exception": false,
     "start_time": "2021-02-25T13:27:50.116418",
     "status": "completed"
    },
    "tags": []
   },
   "outputs": [],
   "source": [
    "test_filenames = os.listdir(\"/kaggle/working/test1\")\n",
    "test_df = pd.DataFrame({\n",
    "    'filename': test_filenames\n",
    "})\n",
    "idlist=[]\n",
    "for file in test_df[\"filename\"]:\n",
    "    idlist.append(file.split(\".\")[0])\n",
    "\n",
    "#test_df['ids'] = alist\n",
    "nb_samples = test_df.shape[0]"
   ]
  },
  {
   "cell_type": "markdown",
   "metadata": {
    "papermill": {
     "duration": 7.365686,
     "end_time": "2021-02-25T13:28:11.858214",
     "exception": false,
     "start_time": "2021-02-25T13:28:04.492528",
     "status": "completed"
    },
    "tags": []
   },
   "source": [
    "## generating test data"
   ]
  },
  {
   "cell_type": "code",
   "execution_count": 17,
   "metadata": {
    "execution": {
     "iopub.execute_input": "2021-02-25T13:28:26.876868Z",
     "iopub.status.busy": "2021-02-25T13:28:26.866594Z",
     "iopub.status.idle": "2021-02-25T13:28:26.980701Z",
     "shell.execute_reply": "2021-02-25T13:28:26.980218Z"
    },
    "papermill": {
     "duration": 7.235679,
     "end_time": "2021-02-25T13:28:26.980834",
     "exception": false,
     "start_time": "2021-02-25T13:28:19.745155",
     "status": "completed"
    },
    "tags": []
   },
   "outputs": [
    {
     "name": "stdout",
     "output_type": "stream",
     "text": [
      "Found 12500 validated image filenames.\n"
     ]
    }
   ],
   "source": [
    "test_gen = ImageDataGenerator(rescale=1./255)\n",
    "test_generator = test_gen.flow_from_dataframe(\n",
    "    test_df, \n",
    "    \"/kaggle/working/test1\", \n",
    "    x_col='filename',\n",
    "    y_col=None,\n",
    "    class_mode=None,\n",
    "    target_size=(128,128),\n",
    "    batch_size=15,\n",
    "    shuffle=False\n",
    ")"
   ]
  },
  {
   "cell_type": "markdown",
   "metadata": {
    "papermill": {
     "duration": 7.518154,
     "end_time": "2021-02-25T13:28:41.818703",
     "exception": false,
     "start_time": "2021-02-25T13:28:34.300549",
     "status": "completed"
    },
    "tags": []
   },
   "source": [
    "## predicting model"
   ]
  },
  {
   "cell_type": "code",
   "execution_count": 18,
   "metadata": {
    "execution": {
     "iopub.execute_input": "2021-02-25T13:28:57.068626Z",
     "iopub.status.busy": "2021-02-25T13:28:57.067666Z",
     "iopub.status.idle": "2021-02-25T13:29:30.194011Z",
     "shell.execute_reply": "2021-02-25T13:29:30.193461Z"
    },
    "papermill": {
     "duration": 41.142903,
     "end_time": "2021-02-25T13:29:30.194164",
     "exception": false,
     "start_time": "2021-02-25T13:28:49.051261",
     "status": "completed"
    },
    "tags": []
   },
   "outputs": [],
   "source": [
    "predict = model.predict(test_generator, steps=np.ceil(nb_samples/15))"
   ]
  },
  {
   "cell_type": "code",
   "execution_count": 19,
   "metadata": {
    "execution": {
     "iopub.execute_input": "2021-02-25T13:29:44.865550Z",
     "iopub.status.busy": "2021-02-25T13:29:44.864579Z",
     "iopub.status.idle": "2021-02-25T13:29:44.867114Z",
     "shell.execute_reply": "2021-02-25T13:29:44.867626Z"
    },
    "papermill": {
     "duration": 7.267187,
     "end_time": "2021-02-25T13:29:44.867818",
     "exception": false,
     "start_time": "2021-02-25T13:29:37.600631",
     "status": "completed"
    },
    "tags": []
   },
   "outputs": [],
   "source": [
    "test_df['category'] = np.argmax(predict, axis=-1)"
   ]
  },
  {
   "cell_type": "code",
   "execution_count": 20,
   "metadata": {
    "execution": {
     "iopub.execute_input": "2021-02-25T13:30:00.258335Z",
     "iopub.status.busy": "2021-02-25T13:30:00.257349Z",
     "iopub.status.idle": "2021-02-25T13:30:00.262301Z",
     "shell.execute_reply": "2021-02-25T13:30:00.262900Z"
    },
    "papermill": {
     "duration": 7.901681,
     "end_time": "2021-02-25T13:30:00.263082",
     "exception": false,
     "start_time": "2021-02-25T13:29:52.361401",
     "status": "completed"
    },
    "tags": []
   },
   "outputs": [],
   "source": [
    "label_map = dict((v,k) for k,v in train_generator.class_indices.items())\n",
    "test_df['category'] = test_df['category'].replace(label_map)"
   ]
  },
  {
   "cell_type": "code",
   "execution_count": 21,
   "metadata": {
    "execution": {
     "iopub.execute_input": "2021-02-25T13:30:14.782094Z",
     "iopub.status.busy": "2021-02-25T13:30:14.781196Z",
     "iopub.status.idle": "2021-02-25T13:30:14.785093Z",
     "shell.execute_reply": "2021-02-25T13:30:14.784593Z"
    },
    "papermill": {
     "duration": 7.384459,
     "end_time": "2021-02-25T13:30:14.785228",
     "exception": false,
     "start_time": "2021-02-25T13:30:07.400769",
     "status": "completed"
    },
    "tags": []
   },
   "outputs": [],
   "source": [
    "test_df['category'] = test_df['category'].replace({ 'dog': 1, 'cat': 0 })"
   ]
  },
  {
   "cell_type": "markdown",
   "metadata": {
    "papermill": {
     "duration": 7.261102,
     "end_time": "2021-02-25T13:30:29.392387",
     "exception": false,
     "start_time": "2021-02-25T13:30:22.131285",
     "status": "completed"
    },
    "tags": []
   },
   "source": [
    "## submission"
   ]
  },
  {
   "cell_type": "code",
   "execution_count": 22,
   "metadata": {
    "execution": {
     "iopub.execute_input": "2021-02-25T13:30:44.763026Z",
     "iopub.status.busy": "2021-02-25T13:30:44.761662Z",
     "iopub.status.idle": "2021-02-25T13:30:44.904492Z",
     "shell.execute_reply": "2021-02-25T13:30:44.903875Z"
    },
    "papermill": {
     "duration": 7.653132,
     "end_time": "2021-02-25T13:30:44.904637",
     "exception": false,
     "start_time": "2021-02-25T13:30:37.251505",
     "status": "completed"
    },
    "tags": []
   },
   "outputs": [],
   "source": [
    "submission_df = test_df.copy()\n",
    "submission_df['id'] = submission_df['filename'].str.split('.').str[0]\n",
    "submission_df['label'] = submission_df['category']\n",
    "submission_df.drop(['filename', 'category'], axis=1, inplace=True)\n",
    "submission_df.to_csv('submission.csv', index=False)"
   ]
  },
  {
   "cell_type": "code",
   "execution_count": null,
   "metadata": {
    "papermill": {
     "duration": 7.252899,
     "end_time": "2021-02-25T13:30:59.738243",
     "exception": false,
     "start_time": "2021-02-25T13:30:52.485344",
     "status": "completed"
    },
    "tags": []
   },
   "outputs": [],
   "source": []
  }
 ],
 "metadata": {
  "kernelspec": {
   "display_name": "env",
   "language": "python",
   "name": "env"
  },
  "language_info": {
   "codemirror_mode": {
    "name": "ipython",
    "version": 3
   },
   "file_extension": ".py",
   "mimetype": "text/x-python",
   "name": "python",
   "nbconvert_exporter": "python",
   "pygments_lexer": "ipython3",
   "version": "3.8.8"
  },
  "papermill": {
   "default_parameters": {},
   "duration": 2590.867857,
   "end_time": "2021-02-25T13:31:10.065250",
   "environment_variables": {},
   "exception": null,
   "input_path": "__notebook__.ipynb",
   "output_path": "__notebook__.ipynb",
   "parameters": {},
   "start_time": "2021-02-25T12:47:59.197393",
   "version": "2.2.2"
  }
 },
 "nbformat": 4,
 "nbformat_minor": 4
}
