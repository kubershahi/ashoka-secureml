{
 "cells": [
  {
   "cell_type": "code",
   "execution_count": 2,
   "id": "forced-duration",
   "metadata": {},
   "outputs": [],
   "source": [
    "import random\n",
    "import numpy as np\n",
    "import keras\n",
    "import wandb\n",
    "from wandb.keras import WandbCallback\n",
    "from keras.models import Sequential, Model\n",
    "from keras.layers import Flatten, Dense, Concatenate, Dot, Lambda, Input\n",
    "from keras.datasets import mnist\n",
    "from keras.optimizers import Adam\n",
    "import matplotlib.pyplot as plt"
   ]
  },
  {
   "cell_type": "code",
   "execution_count": 3,
   "id": "mature-hundred",
   "metadata": {},
   "outputs": [],
   "source": [
    "#import mnist dataset\n",
    "(x_train, y_train), (x_test, y_test) = mnist.load_data()\n",
    "x_train = x_train.astype('float32')\n",
    "x_test = x_test.astype('float32')\n",
    "x_train /= 255\n",
    "x_test /= 255"
   ]
  },
  {
   "cell_type": "code",
   "execution_count": 4,
   "id": "fitting-mayor",
   "metadata": {},
   "outputs": [],
   "source": [
    "#create array with pair of mnist data point. Also has a label -> 1 means same number and 0 means different\n",
    "def make_pairs(x, y):\n",
    "    num_classes = max(y) + 1\n",
    "    \n",
    "    #create array for each number 0 to 9 and importing the corresponding labels in it\n",
    "    digit_indices = [np.where(y == i)[0] for i in range(num_classes)]\n",
    "    \n",
    "    pairs = []\n",
    "    labels = []\n",
    "    \n",
    "    \n",
    "    for idx1 in range(len(x)):\n",
    "        # add a matching example\n",
    "        x1 = x[idx1]\n",
    "        label1 = y[idx1]\n",
    "        \n",
    "        #for a given label, find another image with same label and create a pair\n",
    "        idx2 = random.choice(digit_indices[label1])\n",
    "        x2 = x[idx2]\n",
    "        \n",
    "        pairs += [[x1, x2]]\n",
    "        labels += [1]#1 signals same lables\n",
    "    \n",
    "        # add a not matching example\n",
    "        label2 = random.randint(0, num_classes-1)\n",
    "        \n",
    "        #since we are making pair of image that are not matching, generate random integer values from 0 to 9 until the condition is met!\n",
    "        while label2 == label1:\n",
    "            label2 = random.randint(0, num_classes-1)\n",
    "\n",
    "        idx2 = random.choice(digit_indices[label2])\n",
    "        x2 = x[idx2]\n",
    "        \n",
    "        pairs += [[x1, x2]]\n",
    "        labels += [0]#0 signals different lables\n",
    "\n",
    "    return np.array(pairs), np.array(labels)\n",
    "\n",
    "pairs_train, labels_train = make_pairs(x_train, y_train)\n",
    "pairs_test, labels_test = make_pairs(x_test, y_test)"
   ]
  },
  {
   "cell_type": "code",
   "execution_count": 5,
   "id": "eastern-opposition",
   "metadata": {},
   "outputs": [
    {
     "name": "stdout",
     "output_type": "stream",
     "text": [
      "0\n"
     ]
    }
   ],
   "source": [
    "#plt.imshow(x_train[21])\n",
    "print(labels_train[21])"
   ]
  },
  {
   "cell_type": "code",
   "execution_count": 6,
   "id": "sunset-embassy",
   "metadata": {},
   "outputs": [],
   "source": [
    "from keras import backend as K\n",
    "\n",
    "#formula to calculate euclidean distance\n",
    "def euclidean_distance(vects):\n",
    "    x, y = vects\n",
    "    sum_square = K.sum(K.square(x - y), axis=1, keepdims=True)\n",
    "    return K.sqrt(K.maximum(sum_square, K.epsilon()))\n",
    "\n",
    "#create a model with just flatten and dense layer with relu activation function\n",
    "input = Input((28,28))\n",
    "x = Flatten()(input)\n",
    "x = Dense(128, activation='relu')(x)\n",
    "dense = Model(input, x)\n",
    "\n",
    "# two input images\n",
    "input1 = Input((28,28))\n",
    "input2 = Input((28,28))\n",
    "\n",
    "dense1 = dense(input1)\n",
    "dense2 = dense(input2)\n",
    "\n",
    "merge_layer = Lambda(euclidean_distance)([dense1,dense2])\n",
    "dense_layer = Dense(1, activation=\"sigmoid\")(merge_layer)\n",
    "model = Model(inputs=[input1, input2], outputs=dense_layer)\n",
    "model.compile(loss = \"binary_crossentropy\", optimizer=\"adam\", metrics=[\"accuracy\"])"
   ]
  },
  {
   "cell_type": "code",
   "execution_count": null,
   "id": "upset-roman",
   "metadata": {},
   "outputs": [],
   "source": [
    "\n"
   ]
  },
  {
   "cell_type": "code",
   "execution_count": 7,
   "id": "regulation-selling",
   "metadata": {},
   "outputs": [
    {
     "name": "stderr",
     "output_type": "stream",
     "text": [
      "wandb: Currently logged in as: alicesharma201 (use `wandb login --relogin` to force relogin)\n"
     ]
    },
    {
     "data": {
      "text/html": [
       "\n",
       "                Tracking run with wandb version 0.10.23<br/>\n",
       "                Syncing run <strong style=\"color:#cdcd00\">electric-bird-2</strong> to <a href=\"https://wandb.ai\" target=\"_blank\">Weights & Biases</a> <a href=\"https://docs.wandb.com/integrations/jupyter.html\" target=\"_blank\">(Documentation)</a>.<br/>\n",
       "                Project page: <a href=\"https://wandb.ai/alicesharma201/siamese\" target=\"_blank\">https://wandb.ai/alicesharma201/siamese</a><br/>\n",
       "                Run page: <a href=\"https://wandb.ai/alicesharma201/siamese/runs/2dp9qkv2\" target=\"_blank\">https://wandb.ai/alicesharma201/siamese/runs/2dp9qkv2</a><br/>\n",
       "                Run data is saved locally in <code>C:\\Users\\abhin\\OneDrive\\Desktop\\ML\\wandb\\run-20210324_232940-2dp9qkv2</code><br/><br/>\n",
       "            "
      ],
      "text/plain": [
       "<IPython.core.display.HTML object>"
      ]
     },
     "metadata": {},
     "output_type": "display_data"
    },
    {
     "name": "stdout",
     "output_type": "stream",
     "text": [
      "Epoch 1/10\n",
      "   2/7500 [..............................] - ETA: 8:57 - loss: 2.5911 - accuracy: 0.3906   WARNING:tensorflow:Callback method `on_train_batch_end` is slow compared to the batch time (batch time: 0.0030s vs `on_train_batch_end` time: 0.0125s). Check your callbacks.\n",
      "7500/7500 [==============================] - 27s 3ms/step - loss: 0.7046 - accuracy: 0.5001 4s -\n",
      "Epoch 2/10\n",
      "7500/7500 [==============================] - 21s 3ms/step - loss: 0.6932 - accuracy: 0.5014\n",
      "Epoch 3/10\n",
      "7500/7500 [==============================] - 22s 3ms/step - loss: 0.6932 - accuracy: 0.5003 0s\n",
      "Epoch 4/10\n",
      "7500/7500 [==============================] - 22s 3ms/step - loss: 0.6932 - accuracy: 0.4976\n",
      "Epoch 5/10\n",
      "7500/7500 [==============================] - 22s 3ms/step - loss: 0.6932 - accuracy: 0.5020\n",
      "Epoch 6/10\n",
      "7500/7500 [==============================] - 22s 3ms/step - loss: 0.6932 - accuracy: 0.4988\n",
      "Epoch 7/10\n",
      "7500/7500 [==============================] - 22s 3ms/step - loss: 0.6932 - accuracy: 0.5000\n",
      "Epoch 8/10\n",
      "7500/7500 [==============================] - 22s 3ms/step - loss: 0.6932 - accuracy: 0.4964\n",
      "Epoch 9/10\n",
      "7500/7500 [==============================] - 22s 3ms/step - loss: 0.6932 - accuracy: 0.4986 0s - loss:\n",
      "Epoch 10/10\n",
      "7500/7500 [==============================] - 22s 3ms/step - loss: 0.6932 - accuracy: 0.4977\n"
     ]
    },
    {
     "data": {
      "text/plain": [
       "<tensorflow.python.keras.callbacks.History at 0x20e09732f70>"
      ]
     },
     "execution_count": 7,
     "metadata": {},
     "output_type": "execute_result"
    }
   ],
   "source": [
    "wandb.init(project=\"siamese\")\n",
    "\n",
    "#fit the model with the pair of images creates in an array above!\n",
    "model.fit([pairs_train[:,0], pairs_train[:,1]], labels_train[:], batch_size=16, epochs=10, callbacks=[WandbCallback()])"
   ]
  },
  {
   "cell_type": "code",
   "execution_count": null,
   "id": "smart-heritage",
   "metadata": {},
   "outputs": [],
   "source": [
    "#picking two samples at random and checking their similarity with the help of the trained model!\n",
    "new_x = np.reshape(x_test[3],(1,28,28))\n",
    "new_y = np.reshape(x_test[27],(1,28,28))\n",
    "print(y_test[3])\n",
    "print(y_test[27])\n",
    "plt.imshow(x_test[27])\n",
    "\n",
    "test = np.array([new_x, new_y])\n",
    "predict=model.predict([new_x, new_y])\n",
    "print(predict)"
   ]
  }
 ],
 "metadata": {
  "kernelspec": {
   "display_name": "Python 3",
   "language": "python",
   "name": "python3"
  },
  "language_info": {
   "codemirror_mode": {
    "name": "ipython",
    "version": 3
   },
   "file_extension": ".py",
   "mimetype": "text/x-python",
   "name": "python",
   "nbconvert_exporter": "python",
   "pygments_lexer": "ipython3",
   "version": "3.8.8"
  }
 },
 "nbformat": 4,
 "nbformat_minor": 5
}
